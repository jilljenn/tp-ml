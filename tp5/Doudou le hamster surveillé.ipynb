{
 "cells": [
  {
   "cell_type": "markdown",
   "id": "5616060a",
   "metadata": {},
   "source": [
    "# Doudou le hamster surveillé\n",
    "\n",
    "Doudou est un hamster sans mémoire, bref, une chaîne de Markov, cf. [l'exemple Wikipédia éponyme](https://fr.wikipedia.org/wiki/Cha%C3%AEne_de_Markov#Exemple_:_Doudou_le_hamster).\n",
    "\n",
    "![](doudou.png)\n",
    "\n",
    "Dessin par gravgun, [Wikipédia](https://commons.wikimedia.org/w/index.php?curid=41513499), CC BY-SA 4.0."
   ]
  },
  {
   "cell_type": "code",
   "execution_count": 1,
   "id": "e706fec3",
   "metadata": {},
   "outputs": [],
   "source": [
    "from enum import Enum\n",
    "\n",
    "class State(Enum):\n",
    "    DODO = 0\n",
    "    MIAM = 1\n",
    "    RUN = 2\n",
    "\n",
    "states = [State.DODO, State.MIAM, State.RUN]"
   ]
  },
  {
   "cell_type": "code",
   "execution_count": 2,
   "id": "6eb39f86",
   "metadata": {},
   "outputs": [],
   "source": [
    "from scipy.stats import multivariate_normal\n",
    "import numpy as np\n",
    "\n",
    "distributions = {\n",
    "    State.DODO: multivariate_normal([3, 4], np.diag([0.5, 0.5])),\n",
    "    State.MIAM: multivariate_normal([2, 2], np.diag([1, 1.5])),\n",
    "    State.RUN: multivariate_normal([1, 4], np.diag([1, 2]))    \n",
    "}\n",
    "\n",
    "sampler = {state: distributions[state].rvs for state in states}  # Sample from distribution\n",
    "likelihood = {state: distributions[state].pdf for state in states}  # Compute likelihood of sample via probability density function"
   ]
  },
  {
   "cell_type": "markdown",
   "id": "2b3037b5",
   "metadata": {},
   "source": [
    "Faire connaissance avec les objets du sujet (cf. aussi l'annexe plus bas pour `scipy.stats.multivariate_normal`) :"
   ]
  },
  {
   "cell_type": "code",
   "execution_count": 3,
   "id": "c997f9fa",
   "metadata": {},
   "outputs": [
    {
     "data": {
      "text/plain": [
       "array([2.39471816, 2.28364474])"
      ]
     },
     "execution_count": 3,
     "metadata": {},
     "output_type": "execute_result"
    }
   ],
   "source": [
    "coordinates = sampler[State.MIAM]()  # Sample coords from MIAM state\n",
    "coordinates"
   ]
  },
  {
   "cell_type": "code",
   "execution_count": 4,
   "id": "cf08ff11",
   "metadata": {},
   "outputs": [
    {
     "name": "stdout",
     "output_type": "stream",
     "text": [
      "State.DODO 0.011597434611329047\n",
      "State.MIAM 0.11702953411795441\n",
      "State.RUN 0.020373120366568142\n"
     ]
    }
   ],
   "source": [
    "for state in states:\n",
    "    print(state, likelihood[state](coordinates))  # How likely will it come from this distribution?"
   ]
  },
  {
   "cell_type": "code",
   "execution_count": 5,
   "id": "076e0e99",
   "metadata": {},
   "outputs": [
    {
     "data": {
      "text/plain": [
       "(100, 2)"
      ]
     },
     "execution_count": 5,
     "metadata": {},
     "output_type": "execute_result"
    }
   ],
   "source": [
    "samples = {state: sampler[state](size=100) for state in states}\n",
    "\n",
    "samples[State.RUN].shape"
   ]
  },
  {
   "cell_type": "code",
   "execution_count": 6,
   "id": "fc8a4310",
   "metadata": {},
   "outputs": [
    {
     "data": {
      "text/plain": [
       "<matplotlib.legend.Legend at 0x7fa695f0a8e0>"
      ]
     },
     "execution_count": 6,
     "metadata": {},
     "output_type": "execute_result"
    },
    {
     "data": {
      "image/png": "[encoded data removed]",
      "text/plain": [
       "<Figure size 432x288 with 1 Axes>"
      ]
     },
     "metadata": {
      "needs_background": "light"
     },
     "output_type": "display_data"
    }
   ],
   "source": [
    "import matplotlib.pyplot as plt\n",
    "\n",
    "for state, subset in samples.items():\n",
    "    plt.scatter(subset[:, 0], subset[:, 1], c='rgb'[state.value], label=state.name)\n",
    "plt.legend()"
   ]
  },
  {
   "cell_type": "markdown",
   "id": "df8e5afc",
   "metadata": {},
   "source": [
    "La matrice de transition de Doudou telle qu'indiquée dans Wikipédia, n'hésitez pas à modifier si vous souhaitez qu'il dorme moins."
   ]
  },
  {
   "cell_type": "code",
   "execution_count": 7,
   "id": "0bdcb101",
   "metadata": {},
   "outputs": [
    {
     "data": {
      "text/plain": [
       "array([[0.9 , 0.05, 0.05],\n",
       "       [0.7 , 0.  , 0.3 ],\n",
       "       [0.8 , 0.  , 0.2 ]])"
      ]
     },
     "execution_count": 7,
     "metadata": {},
     "output_type": "execute_result"
    }
   ],
   "source": [
    "transition = np.zeros((3, 3))\n",
    "transition[State.DODO.value, State.DODO.value] = 9/10\n",
    "transition[State.DODO.value, State.MIAM.value] = 1/10 / 2\n",
    "transition[State.DODO.value, State.RUN.value] = 1/10 / 2\n",
    "transition[State.MIAM.value, State.RUN.value] = 3/10\n",
    "transition[State.MIAM.value, State.DODO.value] = 7/10\n",
    "transition[State.RUN.value, State.DODO.value] = 8/10\n",
    "transition[State.RUN.value, State.RUN.value] = 2/10\n",
    "transition"
   ]
  },
  {
   "cell_type": "code",
   "execution_count": 8,
   "id": "ff3edb5e",
   "metadata": {},
   "outputs": [
    {
     "data": {
      "text/plain": [
       "array([[0.8839779, 0.0441989, 0.0718232],\n",
       "       [0.8839779, 0.0441989, 0.0718232],\n",
       "       [0.8839779, 0.0441989, 0.0718232]])"
      ]
     },
     "execution_count": 8,
     "metadata": {},
     "output_type": "execute_result"
    }
   ],
   "source": [
    "# Convergence, just for fun\n",
    "transition @ transition @ transition @ transition @ transition @ transition @ transition @ transition @ transition @ transition @ transition @ transition"
   ]
  },
  {
   "cell_type": "markdown",
   "id": "101f802f",
   "metadata": {},
   "source": [
    "Donc Doudou dort 88,4 % du temps, comme indiqué sur l'article Wikipédia."
   ]
  },
  {
   "cell_type": "code",
   "execution_count": 9,
   "id": "f4b7c335",
   "metadata": {},
   "outputs": [],
   "source": [
    "def random_step(z):\n",
    "    return np.random.choice(states, p=transition[z.value])"
   ]
  },
  {
   "cell_type": "code",
   "execution_count": 10,
   "id": "59e3f1d9",
   "metadata": {},
   "outputs": [],
   "source": [
    "def random_walk(n_steps=10):\n",
    "    walk = [State.DODO]\n",
    "    for _ in range(n_steps):\n",
    "        walk.append(random_step(walk[-1]))\n",
    "    return walk"
   ]
  },
  {
   "cell_type": "code",
   "execution_count": 11,
   "id": "f0a60091",
   "metadata": {},
   "outputs": [
    {
     "data": {
      "text/plain": [
       "[<State.DODO: 0>,\n",
       " <State.DODO: 0>,\n",
       " <State.RUN: 2>,\n",
       " <State.DODO: 0>,\n",
       " <State.MIAM: 1>,\n",
       " <State.DODO: 0>,\n",
       " <State.DODO: 0>,\n",
       " <State.DODO: 0>,\n",
       " <State.DODO: 0>,\n",
       " <State.DODO: 0>,\n",
       " <State.DODO: 0>,\n",
       " <State.RUN: 2>,\n",
       " <State.DODO: 0>,\n",
       " <State.RUN: 2>,\n",
       " <State.DODO: 0>,\n",
       " <State.DODO: 0>]"
      ]
     },
     "execution_count": 11,
     "metadata": {},
     "output_type": "execute_result"
    }
   ],
   "source": [
    "random_walk(15)"
   ]
  },
  {
   "cell_type": "code",
   "execution_count": 12,
   "id": "88092237",
   "metadata": {},
   "outputs": [],
   "source": [
    "def encode(states):\n",
    "    return np.array([sampler[state]() for state in states])"
   ]
  },
  {
   "cell_type": "code",
   "execution_count": 13,
   "id": "a6e3473d",
   "metadata": {},
   "outputs": [],
   "source": [
    "hidden = random_walk(500)\n",
    "observations = encode(hidden)"
   ]
  },
  {
   "cell_type": "markdown",
   "id": "76793813",
   "metadata": {},
   "source": [
    "Représentons-les."
   ]
  },
  {
   "cell_type": "code",
   "execution_count": 14,
   "id": "bb3bfb38",
   "metadata": {},
   "outputs": [
    {
     "data": {
      "text/plain": [
       "<matplotlib.collections.PathCollection at 0x7fa691d947f0>"
      ]
     },
     "execution_count": 14,
     "metadata": {},
     "output_type": "execute_result"
    },
    {
     "data": {
      "image/png": "[encoded data removed]",
      "text/plain": [
       "<Figure size 432x288 with 1 Axes>"
      ]
     },
     "metadata": {
      "needs_background": "light"
     },
     "output_type": "display_data"
    }
   ],
   "source": [
    "plt.scatter(observations[:, 0], observations[:, 1])"
   ]
  },
  {
   "cell_type": "code",
   "execution_count": 15,
   "id": "1ed40499",
   "metadata": {},
   "outputs": [
    {
     "data": {
      "text/plain": [
       "[<matplotlib.lines.Line2D at 0x7fa691d05220>]"
      ]
     },
     "execution_count": 15,
     "metadata": {},
     "output_type": "execute_result"
    },
    {
     "data": {
      "image/png": "[encoded data removed]",
      "text/plain": [
       "<Figure size 432x288 with 1 Axes>"
      ]
     },
     "metadata": {
      "needs_background": "light"
     },
     "output_type": "display_data"
    }
   ],
   "source": [
    "plt.plot(observations[:30, 0], observations[:30, 1])"
   ]
  },
  {
   "cell_type": "markdown",
   "id": "c558f76f",
   "metadata": {},
   "source": [
    "Le but est d'implémenter l'[algorithme de Viterbi](https://en.wikipedia.org/wiki/Viterbi_algorithm) pour identifier la séquence d'états de Doudou la plus probable."
   ]
  },
  {
   "cell_type": "code",
   "execution_count": 16,
   "id": "2ad3e6ff",
   "metadata": {},
   "outputs": [],
   "source": [
    "def decode(observations):\n",
    "    K = 3\n",
    "    N_STEPS = len(observations)\n",
    "    \n",
    "    T = [[(float('-inf'), None)] * N_STEPS for _ in range(K)]\n",
    "    # Initially, p(dodo) = 1, p(other) = 0\n",
    "    T[State.DODO.value][0] = (np.log(likelihood[State.DODO](observations[0])), None)\n",
    "    \n",
    "    # T[i][j] contains a pair (best_proba, argmax_k), thanks Hugo Manet\n",
    "    # We can also keep track of predecessors in a dict, possibly more readable, but needs loops or argmax\n",
    "    for j in range(1, N_STEPS):\n",
    "        for i in range(K):\n",
    "            T[i][j] = (max((np.log(likelihood[states[i]](observations[j])) +\n",
    "                            np.log(transition[k][i]) + T[k][j - 1][0], k) for k in range(K)))\n",
    "    T = np.array(T)\n",
    "    state_path = [None] * N_STEPS\n",
    "    state_path[N_STEPS - 1] = states[T[:, -1, 0].argmax()]\n",
    "    for t in range(N_STEPS - 2, -1, -1):\n",
    "        state_path[t] = states[T[state_path[t + 1].value][t + 1][1]]    \n",
    "    return state_path, T"
   ]
  },
  {
   "cell_type": "code",
   "execution_count": 17,
   "id": "a64e4f66",
   "metadata": {},
   "outputs": [
    {
     "name": "stderr",
     "output_type": "stream",
     "text": [
      "/tmp/ipykernel_12935/3960492278.py:14: RuntimeWarning: divide by zero encountered in log\n",
      "  np.log(transition[k][i]) + T[k][j - 1][0], k) for k in range(K)))\n"
     ]
    }
   ],
   "source": [
    "state_path, T = decode(observations)"
   ]
  },
  {
   "cell_type": "code",
   "execution_count": 18,
   "id": "0acbc31f",
   "metadata": {},
   "outputs": [
    {
     "data": {
      "text/plain": [
       "[<State.DODO: 0>,\n",
       " <State.RUN: 2>,\n",
       " <State.DODO: 0>,\n",
       " <State.DODO: 0>,\n",
       " <State.DODO: 0>,\n",
       " <State.MIAM: 1>,\n",
       " <State.DODO: 0>,\n",
       " <State.DODO: 0>,\n",
       " <State.DODO: 0>,\n",
       " <State.DODO: 0>,\n",
       " <State.DODO: 0>,\n",
       " <State.DODO: 0>,\n",
       " <State.DODO: 0>,\n",
       " <State.DODO: 0>,\n",
       " <State.DODO: 0>,\n",
       " <State.DODO: 0>,\n",
       " <State.DODO: 0>,\n",
       " <State.DODO: 0>,\n",
       " <State.DODO: 0>,\n",
       " <State.DODO: 0>]"
      ]
     },
     "execution_count": 18,
     "metadata": {},
     "output_type": "execute_result"
    }
   ],
   "source": [
    "state_path[:20]"
   ]
  },
  {
   "cell_type": "code",
   "execution_count": 19,
   "id": "33ed962b",
   "metadata": {},
   "outputs": [
    {
     "data": {
      "text/plain": [
       "<matplotlib.legend.Legend at 0x7fa691cccc40>"
      ]
     },
     "execution_count": 19,
     "metadata": {},
     "output_type": "execute_result"
    },
    {
     "data": {
      "image/png": "[encoded data removed]",
      "text/plain": [
       "<Figure size 1440x720 with 1 Axes>"
      ]
     },
     "metadata": {
      "needs_background": "light"
     },
     "output_type": "display_data"
    }
   ],
   "source": [
    "PREVIEW_LENGTH = 40\n",
    "fig, ax = plt.subplots(figsize=(20, 10))\n",
    "preview = T[:, :PREVIEW_LENGTH, 0].astype(float)\n",
    "plt.plot(range(PREVIEW_LENGTH), [state.value for state in hidden[:PREVIEW_LENGTH]], label='truth', c='white')\n",
    "plt.plot(range(PREVIEW_LENGTH), [state.value for state in state_path[:PREVIEW_LENGTH]], label='pred')\n",
    "plt.imshow(preview)\n",
    "plt.legend()"
   ]
  },
  {
   "cell_type": "code",
   "execution_count": 20,
   "id": "c51a7893",
   "metadata": {},
   "outputs": [
    {
     "data": {
      "text/plain": [
       "<matplotlib.legend.Legend at 0x7fa691c5a940>"
      ]
     },
     "execution_count": 20,
     "metadata": {},
     "output_type": "execute_result"
    },
    {
     "data": {
      "image/png": "[encoded data removed]",
      "text/plain": [
       "<Figure size 432x288 with 1 Axes>"
      ]
     },
     "metadata": {
      "needs_background": "light"
     },
     "output_type": "display_data"
    }
   ],
   "source": [
    "pos = {state: [] for state in states}\n",
    "for i, state in enumerate(state_path):\n",
    "    pos[state].append(i)\n",
    "for state in states:\n",
    "    plt.scatter(observations[pos[state], 0], observations[pos[state], 1], c='rgb'[state.value], label=state.name)\n",
    "plt.legend()"
   ]
  },
  {
   "cell_type": "code",
   "execution_count": 21,
   "id": "d3a1637a",
   "metadata": {},
   "outputs": [
    {
     "data": {
      "text/plain": [
       "<matplotlib.legend.Legend at 0x7fa691b876a0>"
      ]
     },
     "execution_count": 21,
     "metadata": {},
     "output_type": "execute_result"
    },
    {
     "data": {
      "image/png": "[encoded data removed]",
      "text/plain": [
       "<Figure size 432x288 with 1 Axes>"
      ]
     },
     "metadata": {
      "needs_background": "light"
     },
     "output_type": "display_data"
    }
   ],
   "source": [
    "correct = np.array(hidden) == np.array(state_path)\n",
    "mistakes = np.array(hidden) != np.array(state_path)\n",
    "plt.scatter(observations[correct, 0], observations[correct, 1], c='g', marker='.', label='correct')\n",
    "plt.scatter(observations[mistakes, 0], observations[mistakes, 1], c='r', marker='x', label='mistakes')\n",
    "plt.legend()"
   ]
  },
  {
   "cell_type": "code",
   "execution_count": 22,
   "id": "b559718d",
   "metadata": {},
   "outputs": [
    {
     "data": {
      "text/plain": [
       "0.9201596806387226"
      ]
     },
     "execution_count": 22,
     "metadata": {},
     "output_type": "execute_result"
    }
   ],
   "source": [
    "correct.mean()"
   ]
  },
  {
   "cell_type": "code",
   "execution_count": 23,
   "id": "16979fdf",
   "metadata": {},
   "outputs": [
    {
     "data": {
      "text/plain": [
       "0.8642714570858283"
      ]
     },
     "execution_count": 23,
     "metadata": {},
     "output_type": "execute_result"
    }
   ],
   "source": [
    "hidden.count(State.DODO) / len(observations)"
   ]
  },
  {
   "cell_type": "code",
   "execution_count": 24,
   "id": "86f776a0",
   "metadata": {},
   "outputs": [
    {
     "data": {
      "text/plain": [
       "<sklearn.metrics._plot.confusion_matrix.ConfusionMatrixDisplay at 0x7fa691ba9790>"
      ]
     },
     "execution_count": 24,
     "metadata": {},
     "output_type": "execute_result"
    },
    {
     "data": {
      "image/png": "[encoded data removed]",
      "text/plain": [
       "<Figure size 432x288 with 2 Axes>"
      ]
     },
     "metadata": {
      "needs_background": "light"
     },
     "output_type": "display_data"
    }
   ],
   "source": [
    "from sklearn.metrics import ConfusionMatrixDisplay\n",
    "\n",
    "ConfusionMatrixDisplay.from_predictions([state.value for state in hidden], [state.value for state in state_path],\n",
    "                                        display_labels=[state.name for state in states])"
   ]
  },
  {
   "cell_type": "markdown",
   "id": "6a6f62a9",
   "metadata": {},
   "source": [
    "## Annexe : comprendre la densité de probabilité\n",
    "\n",
    "Gaussienne univariée"
   ]
  },
  {
   "cell_type": "code",
   "execution_count": 25,
   "id": "9f39124c",
   "metadata": {},
   "outputs": [
    {
     "data": {
      "text/plain": [
       "[<matplotlib.lines.Line2D at 0x7fa69042ed00>]"
      ]
     },
     "execution_count": 25,
     "metadata": {},
     "output_type": "execute_result"
    },
    {
     "data": {
      "image/png": "[encoded data removed]",
      "text/plain": [
       "<Figure size 432x288 with 1 Axes>"
      ]
     },
     "metadata": {
      "needs_background": "light"
     },
     "output_type": "display_data"
    }
   ],
   "source": [
    "x = np.linspace(-2, 4, 100, endpoint=False)\n",
    "y = multivariate_normal.pdf(x, mean=1, cov=2); y\n",
    "fig1 = plt.figure()\n",
    "ax = fig1.add_subplot(111)\n",
    "ax.plot(x, y)"
   ]
  },
  {
   "cell_type": "code",
   "execution_count": 26,
   "id": "354e4b49",
   "metadata": {},
   "outputs": [
    {
     "data": {
      "text/plain": [
       "0.16073276729880184"
      ]
     },
     "execution_count": 26,
     "metadata": {},
     "output_type": "execute_result"
    }
   ],
   "source": [
    "multivariate_normal(1, 2).pdf(2.5)  # Vraisemblance d'observer cette valeur"
   ]
  },
  {
   "cell_type": "code",
   "execution_count": 27,
   "id": "4d897968",
   "metadata": {},
   "outputs": [
    {
     "data": {
      "text/plain": [
       "0.28209479177387814"
      ]
     },
     "execution_count": 27,
     "metadata": {},
     "output_type": "execute_result"
    }
   ],
   "source": [
    "multivariate_normal(1, 2).pdf(1)"
   ]
  },
  {
   "cell_type": "code",
   "execution_count": 28,
   "id": "999bdf31",
   "metadata": {},
   "outputs": [
    {
     "data": {
      "text/plain": [
       "4.5282647397717146e-10"
      ]
     },
     "execution_count": 28,
     "metadata": {},
     "output_type": "execute_result"
    }
   ],
   "source": [
    "multivariate_normal(1, 2).pdf(10)"
   ]
  },
  {
   "cell_type": "markdown",
   "id": "8ab3d0b5",
   "metadata": {},
   "source": [
    "En gaussienne multivariée"
   ]
  },
  {
   "cell_type": "code",
   "execution_count": 29,
   "id": "eb78a87b",
   "metadata": {},
   "outputs": [
    {
     "data": {
      "text/plain": [
       "<matplotlib.contour.QuadContourSet at 0x7fa6e80e7460>"
      ]
     },
     "execution_count": 29,
     "metadata": {},
     "output_type": "execute_result"
    },
    {
     "data": {
      "image/png": "[encoded data removed]",
      "text/plain": [
       "<Figure size 432x288 with 1 Axes>"
      ]
     },
     "metadata": {
      "needs_background": "light"
     },
     "output_type": "display_data"
    }
   ],
   "source": [
    "x, y = np.mgrid[-1:1:.01, -1:1:.01]\n",
    "pos = np.dstack((x, y))\n",
    "rv = multivariate_normal([0.5, -0.2], [[2.0, 0.3], [0.3, 0.5]])\n",
    "fig2 = plt.figure()\n",
    "ax2 = fig2.add_subplot(111)\n",
    "ax2.contourf(x, y, rv.pdf(pos))"
   ]
  },
  {
   "cell_type": "markdown",
   "id": "e6d885a9",
   "metadata": {},
   "source": [
    "## Références\n",
    "\n",
    "> Bishop, Christopher M. (2006). [Pattern Recognition and Machine Learning.](http://users.isr.ist.utl.pt/~wurmd/Livros/school/Bishop%20-%20Pattern%20Recognition%20And%20Machine%20Learning%20-%20Springer%20%202006.pdf)\n",
    "\n",
    "mais il y a des typos précisément dans la partie sur l'algorithme de Viterbi, donc nous recommandons plutôt\n",
    "\n",
    "> Murphy, Kevin P (2012). [Machine Learning: A Probabilistic Perspective.](http://noiselab.ucsd.edu/ECE228/Murphy_Machine_Learning.pdf) MIT Press.\n",
    "\n",
    "Merci Guillaume Obozinski."
   ]
  }
 ],
 "metadata": {
  "kernelspec": {
   "display_name": "Python 3 (ipykernel)",
   "language": "python",
   "name": "python3"
  },
  "language_info": {
   "codemirror_mode": {
    "name": "ipython",
    "version": 3
   },
   "file_extension": ".py",
   "mimetype": "text/x-python",
   "name": "python",
   "nbconvert_exporter": "python",
   "pygments_lexer": "ipython3",
   "version": "3.9.5"
  }
 },
 "nbformat": 4,
 "nbformat_minor": 5
}
