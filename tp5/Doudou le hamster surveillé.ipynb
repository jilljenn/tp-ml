{
 "cells": [
  {
   "cell_type": "code",
   "execution_count": 1,
   "id": "74834253",
   "metadata": {},
   "outputs": [],
   "source": [
    "import numpy as np"
   ]
  },
  {
   "cell_type": "code",
   "execution_count": 17,
   "id": "68a9cbbe",
   "metadata": {},
   "outputs": [],
   "source": [
    "sport = np.random.multivariate_normal([1, 4], np.diag([0.5, 2]), size=100)\n",
    "miam = np.random.multivariate_normal([2, 2], np.diag([1, 1.5]), size=100)\n",
    "dodo = np.random.multivariate_normal([3, 4], np.diag([1, 1]), size=100)"
   ]
  },
  {
   "cell_type": "code",
   "execution_count": 18,
   "id": "3c5c5fa1",
   "metadata": {},
   "outputs": [
    {
     "data": {
      "text/plain": [
       "<matplotlib.collections.PathCollection at 0x7f44dfba3df0>"
      ]
     },
     "execution_count": 18,
     "metadata": {},
     "output_type": "execute_result"
    },
    {
     "data": {
      "image/png": "[encoded data removed]",
      "text/plain": [
       "<Figure size 432x288 with 1 Axes>"
      ]
     },
     "metadata": {
      "needs_background": "light"
     },
     "output_type": "display_data"
    }
   ],
   "source": [
    "import matplotlib.pyplot as plt\n",
    "\n",
    "plt.scatter(sport[:, 0], sport[:, 1], c='r')\n",
    "plt.scatter(miam[:, 0], miam[:, 1], c='g')\n",
    "plt.scatter(dodo[:, 0], dodo[:, 1], c='b')"
   ]
  },
  {
   "cell_type": "code",
   "execution_count": 34,
   "id": "f4532b62",
   "metadata": {},
   "outputs": [],
   "source": [
    "from enum import Enum\n",
    "\n",
    "class State(Enum):\n",
    "    DODO = 0\n",
    "    MIAM = 1\n",
    "    RUN = 2\n",
    "\n",
    "states = [State.DODO, State.MIAM, State.RUN]"
   ]
  },
  {
   "cell_type": "code",
   "execution_count": 31,
   "id": "e4fe7002",
   "metadata": {},
   "outputs": [
    {
     "data": {
      "text/plain": [
       "array([[0.9 , 0.05, 0.05],\n",
       "       [0.7 , 0.  , 0.3 ],\n",
       "       [0.8 , 0.  , 0.2 ]])"
      ]
     },
     "execution_count": 31,
     "metadata": {},
     "output_type": "execute_result"
    }
   ],
   "source": [
    "transition = np.zeros((3, 3))\n",
    "transition[State.DODO.value, State.DODO.value] = 9/10\n",
    "transition[State.DODO.value, State.MIAM.value] = 1/10 / 2\n",
    "transition[State.DODO.value, State.RUN.value] = 1/10 / 2\n",
    "transition[State.MIAM.value, State.RUN.value] = 3/10\n",
    "transition[State.MIAM.value, State.DODO.value] = 7/10\n",
    "transition[State.RUN.value, State.DODO.value] = 8/10\n",
    "transition[State.RUN.value, State.RUN.value] = 2/10\n",
    "transition"
   ]
  },
  {
   "cell_type": "code",
   "execution_count": 33,
   "id": "8857fbfc",
   "metadata": {},
   "outputs": [
    {
     "data": {
      "text/plain": [
       "array([[0.885, 0.045, 0.07 ],\n",
       "       [0.87 , 0.035, 0.095],\n",
       "       [0.88 , 0.04 , 0.08 ]])"
      ]
     },
     "execution_count": 33,
     "metadata": {},
     "output_type": "execute_result"
    }
   ],
   "source": [
    "transition @ transition"
   ]
  },
  {
   "cell_type": "code",
   "execution_count": 38,
   "id": "136eb102",
   "metadata": {},
   "outputs": [],
   "source": [
    "def random_step(z):\n",
    "    return np.random.choice(states, p=transition[z.value])"
   ]
  },
  {
   "cell_type": "code",
   "execution_count": 41,
   "id": "62bd5b39",
   "metadata": {},
   "outputs": [],
   "source": [
    "def random_walk(n_steps=10):\n",
    "    walk = [State.DODO]\n",
    "    for _ in range(n_steps):\n",
    "        walk.append(random_step(walk[-1]))\n",
    "    return walk"
   ]
  },
  {
   "cell_type": "code",
   "execution_count": 43,
   "id": "caa32878",
   "metadata": {},
   "outputs": [
    {
     "data": {
      "text/plain": [
       "[<State.DODO: 0>,\n",
       " <State.DODO: 0>,\n",
       " <State.DODO: 0>,\n",
       " <State.DODO: 0>,\n",
       " <State.DODO: 0>,\n",
       " <State.DODO: 0>,\n",
       " <State.MIAM: 1>,\n",
       " <State.DODO: 0>,\n",
       " <State.DODO: 0>,\n",
       " <State.DODO: 0>,\n",
       " <State.DODO: 0>,\n",
       " <State.DODO: 0>,\n",
       " <State.MIAM: 1>,\n",
       " <State.DODO: 0>,\n",
       " <State.DODO: 0>,\n",
       " <State.MIAM: 1>,\n",
       " <State.RUN: 2>,\n",
       " <State.DODO: 0>,\n",
       " <State.DODO: 0>,\n",
       " <State.DODO: 0>,\n",
       " <State.DODO: 0>,\n",
       " <State.DODO: 0>,\n",
       " <State.DODO: 0>,\n",
       " <State.DODO: 0>,\n",
       " <State.DODO: 0>,\n",
       " <State.DODO: 0>]"
      ]
     },
     "execution_count": 43,
     "metadata": {},
     "output_type": "execute_result"
    }
   ],
   "source": [
    "random_walk(25)"
   ]
  },
  {
   "cell_type": "code",
   "execution_count": null,
   "id": "19b64611",
   "metadata": {},
   "outputs": [],
   "source": []
  }
 ],
 "metadata": {
  "kernelspec": {
   "display_name": "Python 3 (ipykernel)",
   "language": "python",
   "name": "python3"
  },
  "language_info": {
   "codemirror_mode": {
    "name": "ipython",
    "version": 3
   },
   "file_extension": ".py",
   "mimetype": "text/x-python",
   "name": "python",
   "nbconvert_exporter": "python",
   "pygments_lexer": "ipython3",
   "version": "3.9.5"
  }
 },
 "nbformat": 4,
 "nbformat_minor": 5
}
