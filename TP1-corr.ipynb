{
 "cells": [
  {
   "cell_type": "markdown",
   "metadata": {},
   "source": [
    "# TP 1 - Regression, classification"
   ]
  },
  {
   "cell_type": "markdown",
   "metadata": {},
   "source": [
    "## 1 - Regression of housing prices"
   ]
  },
  {
   "cell_type": "code",
   "execution_count": 3,
   "metadata": {},
   "outputs": [],
   "source": [
    "# Preparing the dataset\n",
    "import pandas as pd\n",
    "import numpy as np\n",
    "\n",
    "N = 10\n",
    "x = 10 + 70 * np.random.random(N)\n",
    "y = x * 15 + 50 + 100 * np.random.random(N)\n",
    "df = pd.DataFrame(np.column_stack((x, y)), columns=('size', 'price')).round(0)\n",
    "df.to_csv('1housing.csv', index=None)"
   ]
  },
  {
   "cell_type": "markdown",
   "metadata": {},
   "source": [
    "We are going to build a predictor of the price of a flat in Lille according to its surface area."
   ]
  },
  {
   "cell_type": "code",
   "execution_count": 4,
   "metadata": {},
   "outputs": [
    {
     "data": {
      "text/html": [
       "<div>\n",
       "<style scoped>\n",
       "    .dataframe tbody tr th:only-of-type {\n",
       "        vertical-align: middle;\n",
       "    }\n",
       "\n",
       "    .dataframe tbody tr th {\n",
       "        vertical-align: top;\n",
       "    }\n",
       "\n",
       "    .dataframe thead th {\n",
       "        text-align: right;\n",
       "    }\n",
       "</style>\n",
       "<table border=\"1\" class=\"dataframe\">\n",
       "  <thead>\n",
       "    <tr style=\"text-align: right;\">\n",
       "      <th></th>\n",
       "      <th>0</th>\n",
       "      <th>1</th>\n",
       "      <th>2</th>\n",
       "      <th>3</th>\n",
       "      <th>4</th>\n",
       "      <th>5</th>\n",
       "      <th>6</th>\n",
       "      <th>7</th>\n",
       "      <th>8</th>\n",
       "      <th>9</th>\n",
       "    </tr>\n",
       "  </thead>\n",
       "  <tbody>\n",
       "    <tr>\n",
       "      <th>size</th>\n",
       "      <td>46.0</td>\n",
       "      <td>49.0</td>\n",
       "      <td>39.0</td>\n",
       "      <td>14.0</td>\n",
       "      <td>34.0</td>\n",
       "      <td>32.0</td>\n",
       "      <td>28.0</td>\n",
       "      <td>52.0</td>\n",
       "      <td>65.0</td>\n",
       "      <td>51.0</td>\n",
       "    </tr>\n",
       "    <tr>\n",
       "      <th>price</th>\n",
       "      <td>767.0</td>\n",
       "      <td>818.0</td>\n",
       "      <td>683.0</td>\n",
       "      <td>282.0</td>\n",
       "      <td>656.0</td>\n",
       "      <td>530.0</td>\n",
       "      <td>539.0</td>\n",
       "      <td>916.0</td>\n",
       "      <td>1063.0</td>\n",
       "      <td>848.0</td>\n",
       "    </tr>\n",
       "  </tbody>\n",
       "</table>\n",
       "</div>"
      ],
      "text/plain": [
       "           0      1      2      3      4      5      6      7       8      9\n",
       "size    46.0   49.0   39.0   14.0   34.0   32.0   28.0   52.0    65.0   51.0\n",
       "price  767.0  818.0  683.0  282.0  656.0  530.0  539.0  916.0  1063.0  848.0"
      ]
     },
     "execution_count": 4,
     "metadata": {},
     "output_type": "execute_result"
    }
   ],
   "source": [
    "import pandas as pd\n",
    "\n",
    "df = pd.read_csv('1housing.csv')\n",
    "df.T"
   ]
  },
  {
   "cell_type": "code",
   "execution_count": 5,
   "metadata": {},
   "outputs": [
    {
     "data": {
      "text/plain": [
       "<matplotlib.collections.PathCollection at 0x7fdf88b9d810>"
      ]
     },
     "execution_count": 5,
     "metadata": {},
     "output_type": "execute_result"
    },
    {
     "data": {
      "image/png": "[encoded data removed]",
      "text/plain": [
       "<Figure size 432x288 with 1 Axes>"
      ]
     },
     "metadata": {
      "needs_background": "light"
     },
     "output_type": "display_data"
    }
   ],
   "source": [
    "%matplotlib inline\n",
    "import matplotlib.pyplot as plt\n",
    "\n",
    "x = np.array(df['size'])\n",
    "y = np.array(df['price'])\n",
    "plt.scatter(x, y, c='r')"
   ]
  },
  {
   "cell_type": "markdown",
   "metadata": {},
   "source": [
    "We want to learn $a$ and $b$ such that the predictions $f(x_i) = ax_i + b$.\n",
    "\n",
    "Write a function `loss` that computes the squared loss: $$ \\mathcal{L} = \\sum_i (f(x_i) - y_i)^2 $$\n",
    "\n",
    "What is the derivative of this function with respect to $a$ and $b$?\n",
    "\n",
    "Implement gradient descent during 20 steps:\n",
    "\n",
    "For each step:  \n",
    "> For each sample $i$:  \n",
    ">> $a \\gets a - \\gamma \\frac{\\partial \\mathcal{L}}{\\partial a}$  \n",
    ">> $b \\gets b - \\gamma \\frac{\\partial \\mathcal{L}}{\\partial b}$\n",
    "\n",
    "> Print loss at each step"
   ]
  },
  {
   "cell_type": "code",
   "execution_count": 6,
   "metadata": {},
   "outputs": [],
   "source": [
    "def loss(params):\n",
    "    a, b = params\n",
    "    # Your code here\n",
    "\n",
    "gamma = 0.1\n",
    "# Implement gradient descent here"
   ]
  },
  {
   "cell_type": "markdown",
   "metadata": {},
   "source": [
    "What happens? Try lower values of $\\gamma$."
   ]
  },
  {
   "cell_type": "code",
   "execution_count": 7,
   "metadata": {},
   "outputs": [
    {
     "name": "stdout",
     "output_type": "stream",
     "text": [
      "96624.1159413668 [15.000217624550054, 1.0939687172327257]\n",
      "19304.05891813517 [16.64323949008827, 1.1412832564078796]\n",
      "16924.643696307954 [16.829477327719143, 1.1555182482896373]\n",
      "16735.28155778296 [16.850431602002804, 1.1659991772184164]\n",
      "16713.126216656907 [16.852633177190302, 1.1760532496556737]\n",
      "16708.894529573085 [16.852707129899986, 1.1860579633858326]\n",
      "16706.683147659427 [16.852539705556858, 1.196056148592636]\n",
      "16704.701167619296 [16.852344913506965, 1.2060526647938254]\n",
      "16702.745587148867 [16.852147034788363, 1.2160480634370563]\n",
      "16700.79337828845 [16.851948824273475, 1.2260424071856102]\n",
      "16698.841928524103 [16.851750594522265, 1.2360357032463347]\n",
      "16696.89094139305 [16.851552380995184, 1.246027952534099]\n",
      "16694.940383181874 [16.851354187713575, 1.2560191552498892]\n",
      "16692.990249985636 [16.85115601513176, 1.2660093115136841]\n",
      "16691.040541280963 [16.850957863299364, 1.2759984214362623]\n",
      "16689.091256928215 [16.850759732220084, 1.2859864851273477]\n",
      "16687.14239683121 [16.850561621892417, 1.295973502696535]\n",
      "16685.19396089891 [16.850363532314258, 1.3059594742533935]\n",
      "16683.245949040585 [16.85016546348345, 1.3159443999074802]\n",
      "16681.298361165802 [16.849967415397817, 1.32592827976834]\n"
     ]
    }
   ],
   "source": [
    "from autograd import grad  #, jacobian\n",
    "\n",
    "a = np.random.random()\n",
    "b = np.random.random()\n",
    "\n",
    "def loss(params):\n",
    "    a, b = params\n",
    "    return sum((y - a * x - b) ** 2)\n",
    "\n",
    "\"\"\"\n",
    "gradient_loss = grad(loss)\n",
    "# hessian_loss = jacobian(grad(loss))  # Newton\n",
    "gamma = 0.00001\n",
    "params = np.array([a, b])\n",
    "for _ in range(10):\n",
    "    # params -= np.linalg.inv(hessian_loss(params)) @ gradient_loss(params)\n",
    "    params -= gamma * gradient_loss(params)\n",
    "    print(loss(params), params)\"\"\"\n",
    "\n",
    "gamma = 0.0001\n",
    "for _ in range(20):\n",
    "    for i in range(N):\n",
    "        delta = a * x[i] + b - y[i]\n",
    "        a -= gamma * x[i] * delta\n",
    "        b -= gamma * delta\n",
    "    print(loss([a, b]), [a, b])"
   ]
  },
  {
   "cell_type": "markdown",
   "metadata": {},
   "source": [
    "Using `plt.plot`, display the line of your model."
   ]
  },
  {
   "cell_type": "code",
   "execution_count": 8,
   "metadata": {},
   "outputs": [
    {
     "data": {
      "image/png": "[encoded data removed]",
      "text/plain": [
       "<Figure size 432x288 with 1 Axes>"
      ]
     },
     "metadata": {
      "needs_background": "light"
     },
     "output_type": "display_data"
    }
   ],
   "source": [
    "plt.scatter(x, y, c='r')\n",
    "t = np.arange(0, 80, 1)\n",
    "# plt.plot(t, a * t + b)"
   ]
  },
  {
   "cell_type": "markdown",
   "metadata": {},
   "source": [
    "Now that you've trained your first machine learning model, you can use the code provided by the package scikit-learn.\n",
    "\n",
    "You just need to declare the features in a matrix (not vector) and run:\n",
    "\n",
    "- `fit(X, y)` to train;\n",
    "- `score(X, y)` to get a measure of correctness (1 is best); for linear regression it is the coefficient of determination $R^2$."
   ]
  },
  {
   "cell_type": "code",
   "execution_count": 9,
   "metadata": {},
   "outputs": [],
   "source": [
    "from sklearn.linear_model import LinearRegression\n",
    "\n",
    "X = x.reshape(-1, 1)  # Transform the vector x into a matrix X"
   ]
  },
  {
   "cell_type": "code",
   "execution_count": 10,
   "metadata": {},
   "outputs": [
    {
     "data": {
      "text/plain": [
       "0.9821445710079398"
      ]
     },
     "execution_count": 10,
     "metadata": {},
     "output_type": "execute_result"
    }
   ],
   "source": [
    "model = LinearRegression()\n",
    "model.fit(X, y)\n",
    "model.score(X, y)"
   ]
  },
  {
   "cell_type": "code",
   "execution_count": 11,
   "metadata": {},
   "outputs": [
    {
     "data": {
      "text/plain": [
       "(15.171011470281549, 88.1885297184565)"
      ]
     },
     "execution_count": 11,
     "metadata": {},
     "output_type": "execute_result"
    },
    {
     "data": {
      "image/png": "[encoded data removed]",
      "text/plain": [
       "<Figure size 432x288 with 1 Axes>"
      ]
     },
     "metadata": {
      "needs_background": "light"
     },
     "output_type": "display_data"
    }
   ],
   "source": [
    "plt.scatter(x, y, c='r')\n",
    "t = np.arange(0, 80, 1)\n",
    "a, b = model.coef_[0], model.intercept_\n",
    "plt.plot(t, a * t + b)\n",
    "a, b"
   ]
  },
  {
   "cell_type": "markdown",
   "metadata": {},
   "source": [
    "## 2 - Simple classification of tumors"
   ]
  },
  {
   "cell_type": "code",
   "execution_count": 12,
   "metadata": {},
   "outputs": [],
   "source": [
    "# Preparing the dataset\n",
    "import numpy as np\n",
    "\n",
    "N = 200\n",
    "radius = np.random.random(N)\n",
    "angles = 2 * np.pi * np.random.random(N)\n",
    "x1 = 1 + radius * np.cos(angles)\n",
    "y1 = 3 + radius * np.sin(angles)\n",
    "\n",
    "radius = np.random.random(N)\n",
    "angles = 2 * np.pi * np.random.random(N)\n",
    "x2 = 2.5 + radius * np.cos(angles)\n",
    "y2 = 4.5 + radius * np.sin(angles)\n",
    "\n",
    "x = np.concatenate((x1, x2))\n",
    "y = np.concatenate((y1, y2))\n",
    "r = np.array([1.] * N + [-1.] * N)\n",
    "\n",
    "df = pd.DataFrame(np.column_stack((x, y, r)), columns=('color', 'size', 'label'))\n",
    "df.to_csv('2tumors.csv', index=None)"
   ]
  },
  {
   "cell_type": "code",
   "execution_count": 13,
   "metadata": {},
   "outputs": [
    {
     "data": {
      "text/html": [
       "<div>\n",
       "<style scoped>\n",
       "    .dataframe tbody tr th:only-of-type {\n",
       "        vertical-align: middle;\n",
       "    }\n",
       "\n",
       "    .dataframe tbody tr th {\n",
       "        vertical-align: top;\n",
       "    }\n",
       "\n",
       "    .dataframe thead th {\n",
       "        text-align: right;\n",
       "    }\n",
       "</style>\n",
       "<table border=\"1\" class=\"dataframe\">\n",
       "  <thead>\n",
       "    <tr style=\"text-align: right;\">\n",
       "      <th></th>\n",
       "      <th>color</th>\n",
       "      <th>size</th>\n",
       "      <th>label</th>\n",
       "    </tr>\n",
       "  </thead>\n",
       "  <tbody>\n",
       "    <tr>\n",
       "      <th>0</th>\n",
       "      <td>0.860172</td>\n",
       "      <td>3.352011</td>\n",
       "      <td>1.0</td>\n",
       "    </tr>\n",
       "    <tr>\n",
       "      <th>1</th>\n",
       "      <td>1.206664</td>\n",
       "      <td>3.677313</td>\n",
       "      <td>1.0</td>\n",
       "    </tr>\n",
       "    <tr>\n",
       "      <th>2</th>\n",
       "      <td>0.847279</td>\n",
       "      <td>2.869402</td>\n",
       "      <td>1.0</td>\n",
       "    </tr>\n",
       "    <tr>\n",
       "      <th>3</th>\n",
       "      <td>1.305340</td>\n",
       "      <td>2.250628</td>\n",
       "      <td>1.0</td>\n",
       "    </tr>\n",
       "    <tr>\n",
       "      <th>4</th>\n",
       "      <td>0.513919</td>\n",
       "      <td>2.169618</td>\n",
       "      <td>1.0</td>\n",
       "    </tr>\n",
       "    <tr>\n",
       "      <th>...</th>\n",
       "      <td>...</td>\n",
       "      <td>...</td>\n",
       "      <td>...</td>\n",
       "    </tr>\n",
       "    <tr>\n",
       "      <th>395</th>\n",
       "      <td>1.628342</td>\n",
       "      <td>4.970346</td>\n",
       "      <td>-1.0</td>\n",
       "    </tr>\n",
       "    <tr>\n",
       "      <th>396</th>\n",
       "      <td>2.620280</td>\n",
       "      <td>4.826318</td>\n",
       "      <td>-1.0</td>\n",
       "    </tr>\n",
       "    <tr>\n",
       "      <th>397</th>\n",
       "      <td>2.041993</td>\n",
       "      <td>4.053759</td>\n",
       "      <td>-1.0</td>\n",
       "    </tr>\n",
       "    <tr>\n",
       "      <th>398</th>\n",
       "      <td>2.517886</td>\n",
       "      <td>4.211410</td>\n",
       "      <td>-1.0</td>\n",
       "    </tr>\n",
       "    <tr>\n",
       "      <th>399</th>\n",
       "      <td>1.640362</td>\n",
       "      <td>4.526409</td>\n",
       "      <td>-1.0</td>\n",
       "    </tr>\n",
       "  </tbody>\n",
       "</table>\n",
       "<p>400 rows × 3 columns</p>\n",
       "</div>"
      ],
      "text/plain": [
       "        color      size  label\n",
       "0    0.860172  3.352011    1.0\n",
       "1    1.206664  3.677313    1.0\n",
       "2    0.847279  2.869402    1.0\n",
       "3    1.305340  2.250628    1.0\n",
       "4    0.513919  2.169618    1.0\n",
       "..        ...       ...    ...\n",
       "395  1.628342  4.970346   -1.0\n",
       "396  2.620280  4.826318   -1.0\n",
       "397  2.041993  4.053759   -1.0\n",
       "398  2.517886  4.211410   -1.0\n",
       "399  1.640362  4.526409   -1.0\n",
       "\n",
       "[400 rows x 3 columns]"
      ]
     },
     "execution_count": 13,
     "metadata": {},
     "output_type": "execute_result"
    }
   ],
   "source": [
    "df = pd.read_csv('2tumors.csv')\n",
    "df"
   ]
  },
  {
   "cell_type": "code",
   "execution_count": 26,
   "metadata": {},
   "outputs": [
    {
     "data": {
      "text/plain": [
       "<matplotlib.collections.PathCollection at 0x7fdf66ceb3d0>"
      ]
     },
     "execution_count": 26,
     "metadata": {},
     "output_type": "execute_result"
    },
    {
     "data": {
      "image/png": "[encoded data removed]",
      "text/plain": [
       "<Figure size 432x288 with 1 Axes>"
      ]
     },
     "metadata": {
      "needs_background": "light"
     },
     "output_type": "display_data"
    }
   ],
   "source": [
    "x = np.array(df['color'])\n",
    "y = np.array(df['size'])\n",
    "colors = ['r' if label > 0 else 'b' for label in r]\n",
    "\n",
    "plt.scatter(x, y, c=colors)"
   ]
  },
  {
   "cell_type": "markdown",
   "metadata": {},
   "source": [
    "Now the problem is different: we want to predict either 1 or -1.\n",
    "\n",
    "Hence the penalty depends on $yf(x)$ (positive is better): $$\\mathcal{L} = \\sum_i \\Phi(y_i f(x_i))$$\n",
    "\n",
    "Here are various choices for $\\Phi$:"
   ]
  },
  {
   "cell_type": "code",
   "execution_count": 19,
   "metadata": {},
   "outputs": [
    {
     "data": {
      "text/plain": [
       "<matplotlib.legend.Legend at 0x7fdf66bd4050>"
      ]
     },
     "execution_count": 19,
     "metadata": {},
     "output_type": "execute_result"
    },
    {
     "data": {
      "image/png": "[encoded data removed]",
      "text/plain": [
       "<Figure size 432x288 with 1 Axes>"
      ]
     },
     "metadata": {
      "needs_background": "light"
     },
     "output_type": "display_data"
    }
   ],
   "source": [
    "import autograd.numpy as np\n",
    "\n",
    "# Different loss functions for classification\n",
    "def logistic(x):\n",
    "    return np.log(1 + np.exp(-x)) / np.log(2)\n",
    "\n",
    "def heaviside(x):\n",
    "    return (np.sign(-x) + 1.) // 2\n",
    "\n",
    "def hinge(x):\n",
    "    return np.maximum(0., 1 - x)\n",
    "\n",
    "def square(x):\n",
    "    return (1 - x) ** 2\n",
    "\n",
    "t = np.arange(-1, 3, 0.01)\n",
    "for f in [logistic, heaviside, hinge, square]:\n",
    "    plt.plot(t, f(t), label=f.__name__)\n",
    "plt.legend()"
   ]
  },
  {
   "cell_type": "markdown",
   "metadata": {},
   "source": [
    "Our model is simple: if $y > ax + b$, predict 1, otherwise predict -1.\n",
    "\n",
    "Write the corresponding loss function, depending on $\\Phi$."
   ]
  },
  {
   "cell_type": "code",
   "execution_count": 20,
   "metadata": {},
   "outputs": [],
   "source": [
    "PHI = logistic\n",
    "\n",
    "def loss(params):\n",
    "    a, b = params\n",
    "    # Your code here"
   ]
  },
  {
   "cell_type": "markdown",
   "metadata": {},
   "source": [
    "To implement gradient descent this time, we will cheat. There is a package `autograd` that can compute the gradient of any numpy function."
   ]
  },
  {
   "cell_type": "code",
   "execution_count": 21,
   "metadata": {},
   "outputs": [],
   "source": [
    "from autograd import grad\n",
    "\n",
    "gradient_loss = grad(loss)"
   ]
  },
  {
   "cell_type": "markdown",
   "metadata": {},
   "source": [
    "Then if $w$ are `params`, `gradient_loss(params)` represents $\\frac{\\partial \\mathcal{L}}{\\partial w}$ at point $w$."
   ]
  },
  {
   "cell_type": "code",
   "execution_count": 23,
   "metadata": {},
   "outputs": [
    {
     "name": "stdout",
     "output_type": "stream",
     "text": [
      "17868.55334234605 [17.62062253 21.96455412]\n",
      "19175.989003097147 [-55.2037513   -6.88934669]\n",
      "2611.3245558475983 [-25.63022083  21.96455377]\n",
      "11889.488371035915 [ 0.71200777 43.9183547 ]\n",
      "17875.765299928767 [-72.11236606  15.06445389]\n",
      "2612.472707405445 [-42.63342538  43.09785206]\n",
      "2098.2502442582786 [-19.90326403  60.81965777]\n",
      "11493.785622805202 [-72.03741307  38.71717744]\n",
      "495.98808939169226 [-43.4529214   64.20744897]\n",
      "89.93644900155479 [-34.9651479   69.44924604]\n",
      "72.78229193303693 [-37.01943624  68.20987049]\n",
      "70.28336214700018 [-36.20920048  68.554222  ]\n",
      "69.8535645293152 [-36.41093001  68.32102608]\n",
      "69.7266352642653 [-36.29693635  68.26603419]\n",
      "69.61694810105062 [-36.26308569  68.16563902]\n",
      "69.50867697620994 [-36.20707023  68.07783239]\n",
      "69.40056976679028 [-36.15713688  67.98661584]\n",
      "69.29253498485242 [-36.10553648  67.8963794 ]\n",
      "69.18456584876299 [-36.05442234  67.80590345]\n",
      "69.07666204605766 [-36.00319168  67.71552958]\n"
     ]
    }
   ],
   "source": [
    "PHI = logistic\n",
    "\n",
    "def loss(params):\n",
    "    a, b = params\n",
    "    return sum(PHI(r * (a * x + b - y)))\n",
    "\n",
    "gradient_loss = grad(loss)\n",
    "\n",
    "gamma = 0.1\n",
    "params = np.random.random(2)\n",
    "for _ in range(20):\n",
    "    params -= gamma * gradient_loss(params)\n",
    "    print(loss(params), params)"
   ]
  },
  {
   "cell_type": "markdown",
   "metadata": {},
   "source": [
    "Try various values of `PHI` and `gamma`. You can then plot the results:"
   ]
  },
  {
   "cell_type": "code",
   "execution_count": 27,
   "metadata": {},
   "outputs": [
    {
     "data": {
      "text/plain": [
       "(1, 6)"
      ]
     },
     "execution_count": 27,
     "metadata": {},
     "output_type": "execute_result"
    },
    {
     "data": {
      "image/png": "[encoded data removed]",
      "text/plain": [
       "<Figure size 432x288 with 1 Axes>"
      ]
     },
     "metadata": {
      "needs_background": "light"
     },
     "output_type": "display_data"
    }
   ],
   "source": [
    "t = np.arange(0, 5, 1)\n",
    "f, ax = plt.subplots(1)\n",
    "plt.scatter(x, y, c=colors)\n",
    "a, b = params\n",
    "plt.plot(t, a * t + b)\n",
    "ax.set_ylim((1, 6))"
   ]
  },
  {
   "cell_type": "markdown",
   "metadata": {},
   "source": [
    "Let's compare the results with scikit-learn's logistic regression implementation."
   ]
  },
  {
   "cell_type": "code",
   "execution_count": 28,
   "metadata": {},
   "outputs": [],
   "source": [
    "from sklearn.linear_model import LogisticRegression\n",
    "\n",
    "model = LogisticRegression(penalty='none')\n",
    "X = np.column_stack((x, y))\n",
    "model.fit(X, r)\n",
    "\n",
    "w1, w2 = model.coef_.reshape(-1)\n",
    "bias = model.intercept_[0]\n",
    "a, b = [-w1 / w2, -bias / w2]"
   ]
  },
  {
   "cell_type": "code",
   "execution_count": 30,
   "metadata": {},
   "outputs": [
    {
     "data": {
      "text/plain": [
       "(1, 6)"
      ]
     },
     "execution_count": 30,
     "metadata": {},
     "output_type": "execute_result"
    },
    {
     "data": {
      "image/png": "[encoded data removed]",
      "text/plain": [
       "<Figure size 432x288 with 1 Axes>"
      ]
     },
     "metadata": {
      "needs_background": "light"
     },
     "output_type": "display_data"
    }
   ],
   "source": [
    "t = np.arange(0, 5, 1)\n",
    "f, ax = plt.subplots(1)\n",
    "plt.scatter(x, y, c=colors)\n",
    "\n",
    "plt.plot(t, a * t + b)\n",
    "ax.set_ylim((1, 6))"
   ]
  },
  {
   "cell_type": "markdown",
   "metadata": {},
   "source": [
    "## 3 - Classification of tumors"
   ]
  },
  {
   "cell_type": "markdown",
   "metadata": {},
   "source": [
    "Let us now consider a more complicated example."
   ]
  },
  {
   "cell_type": "code",
   "execution_count": 36,
   "metadata": {},
   "outputs": [],
   "source": [
    "# Preparing the dataset\n",
    "N = 200\n",
    "r = np.random.randint(2, size=N)\n",
    "radius_x = 3 + r * 2\n",
    "radius_y = 2 + r * 1\n",
    "angles = 2 * np.pi * np.random.random(N)\n",
    "x = 1. + radius_x * np.cos(angles)\n",
    "y = 1. + radius_y * np.sin(angles)\n",
    "r = r * 2 - 1\n",
    "\n",
    "df = pd.DataFrame(np.column_stack((x, y, r)), columns=('color', 'size', 'label'))\n",
    "df.to_csv('3tumors.csv', index=None)"
   ]
  },
  {
   "cell_type": "code",
   "execution_count": 37,
   "metadata": {},
   "outputs": [
    {
     "data": {
      "text/html": [
       "<div>\n",
       "<style scoped>\n",
       "    .dataframe tbody tr th:only-of-type {\n",
       "        vertical-align: middle;\n",
       "    }\n",
       "\n",
       "    .dataframe tbody tr th {\n",
       "        vertical-align: top;\n",
       "    }\n",
       "\n",
       "    .dataframe thead th {\n",
       "        text-align: right;\n",
       "    }\n",
       "</style>\n",
       "<table border=\"1\" class=\"dataframe\">\n",
       "  <thead>\n",
       "    <tr style=\"text-align: right;\">\n",
       "      <th></th>\n",
       "      <th>color</th>\n",
       "      <th>size</th>\n",
       "      <th>label</th>\n",
       "    </tr>\n",
       "  </thead>\n",
       "  <tbody>\n",
       "    <tr>\n",
       "      <th>0</th>\n",
       "      <td>3.834564</td>\n",
       "      <td>1.654981</td>\n",
       "      <td>-1.0</td>\n",
       "    </tr>\n",
       "    <tr>\n",
       "      <th>1</th>\n",
       "      <td>-1.090146</td>\n",
       "      <td>-0.434695</td>\n",
       "      <td>-1.0</td>\n",
       "    </tr>\n",
       "    <tr>\n",
       "      <th>2</th>\n",
       "      <td>-2.905435</td>\n",
       "      <td>-0.873267</td>\n",
       "      <td>1.0</td>\n",
       "    </tr>\n",
       "    <tr>\n",
       "      <th>3</th>\n",
       "      <td>3.841463</td>\n",
       "      <td>1.641557</td>\n",
       "      <td>-1.0</td>\n",
       "    </tr>\n",
       "    <tr>\n",
       "      <th>4</th>\n",
       "      <td>-3.393475</td>\n",
       "      <td>2.432151</td>\n",
       "      <td>1.0</td>\n",
       "    </tr>\n",
       "  </tbody>\n",
       "</table>\n",
       "</div>"
      ],
      "text/plain": [
       "      color      size  label\n",
       "0  3.834564  1.654981   -1.0\n",
       "1 -1.090146 -0.434695   -1.0\n",
       "2 -2.905435 -0.873267    1.0\n",
       "3  3.841463  1.641557   -1.0\n",
       "4 -3.393475  2.432151    1.0"
      ]
     },
     "execution_count": 37,
     "metadata": {},
     "output_type": "execute_result"
    }
   ],
   "source": [
    "df = pd.read_csv('3tumors.csv')\n",
    "df.head()"
   ]
  },
  {
   "cell_type": "code",
   "execution_count": 38,
   "metadata": {},
   "outputs": [
    {
     "data": {
      "text/plain": [
       "<matplotlib.collections.PathCollection at 0x7fdf6699f750>"
      ]
     },
     "execution_count": 38,
     "metadata": {},
     "output_type": "execute_result"
    },
    {
     "data": {
      "image/png": "[encoded data removed]",
      "text/plain": [
       "<Figure size 432x288 with 1 Axes>"
      ]
     },
     "metadata": {
      "needs_background": "light"
     },
     "output_type": "display_data"
    }
   ],
   "source": [
    "x = np.array(df['color'])\n",
    "y = np.array(df['size'])\n",
    "colors = ['r' if label > 0 else 'b' for label in r]\n",
    "\n",
    "plt.scatter(x, y, c=colors)"
   ]
  },
  {
   "cell_type": "markdown",
   "metadata": {},
   "source": [
    "Compute the score of scikit-learn's logistic regression. What happens?\n",
    "\n",
    "What model are we trying to learn? How to add features?\n",
    "\n",
    "Try also `from sklearn.svm import SVC`."
   ]
  },
  {
   "cell_type": "code",
   "execution_count": 39,
   "metadata": {},
   "outputs": [
    {
     "name": "stdout",
     "output_type": "stream",
     "text": [
      "[[ 0.02884677 -0.0646638 ]]\n",
      "0.59\n"
     ]
    }
   ],
   "source": [
    "from sklearn.linear_model import LogisticRegression\n",
    "\n",
    "model = LogisticRegression()\n",
    "X = np.column_stack((x, y))\n",
    "model.fit(X, r)\n",
    "print(model.coef_)\n",
    "print(model.score(X, r))"
   ]
  },
  {
   "cell_type": "code",
   "execution_count": 40,
   "metadata": {},
   "outputs": [
    {
     "data": {
      "text/plain": [
       "1.0"
      ]
     },
     "execution_count": 40,
     "metadata": {},
     "output_type": "execute_result"
    }
   ],
   "source": [
    "x2 = x ** 2\n",
    "y2 = y ** 2\n",
    "xy = x * y\n",
    "X2 = np.column_stack((x, y, x2, y2, xy))\n",
    "model.fit(X2, r)\n",
    "model.score(X2, r)"
   ]
  },
  {
   "cell_type": "code",
   "execution_count": 41,
   "metadata": {},
   "outputs": [
    {
     "data": {
      "text/plain": [
       "1.0"
      ]
     },
     "execution_count": 41,
     "metadata": {},
     "output_type": "execute_result"
    }
   ],
   "source": [
    "from sklearn.svm import SVC\n",
    "\n",
    "model = SVC()\n",
    "model.fit(X, r)\n",
    "model.score(X, r)"
   ]
  },
  {
   "cell_type": "markdown",
   "metadata": {},
   "source": [
    "## 4 - Classification of handwritten digits"
   ]
  },
  {
   "cell_type": "code",
   "execution_count": 102,
   "metadata": {},
   "outputs": [
    {
     "data": {
      "text/plain": [
       "<matplotlib.image.AxesImage at 0x7fdf61f815d0>"
      ]
     },
     "execution_count": 102,
     "metadata": {},
     "output_type": "execute_result"
    },
    {
     "data": {
      "image/png": "[encoded data removed]",
      "text/plain": [
       "<Figure size 432x288 with 1 Axes>"
      ]
     },
     "metadata": {
      "needs_background": "light"
     },
     "output_type": "display_data"
    }
   ],
   "source": [
    "from sklearn import datasets, metrics\n",
    "\n",
    "digits = datasets.load_digits()\n",
    "plt.imshow(digits.images[42], cmap=plt.cm.gray_r)"
   ]
  },
  {
   "cell_type": "code",
   "execution_count": 103,
   "metadata": {},
   "outputs": [
    {
     "name": "stderr",
     "output_type": "stream",
     "text": [
      "/home/jj/.local/lib/python3.7/site-packages/sklearn/linear_model/_logistic.py:940: ConvergenceWarning: lbfgs failed to converge (status=1):\n",
      "STOP: TOTAL NO. of ITERATIONS REACHED LIMIT.\n",
      "\n",
      "Increase the number of iterations (max_iter) or scale the data as shown in:\n",
      "    https://scikit-learn.org/stable/modules/preprocessing.html\n",
      "Please also refer to the documentation for alternative solver options:\n",
      "    https://scikit-learn.org/stable/modules/linear_model.html#logistic-regression\n",
      "  extra_warning_msg=_LOGISTIC_SOLVER_CONVERGENCE_MSG)\n"
     ]
    },
    {
     "data": {
      "text/plain": [
       "0.9777777777777777"
      ]
     },
     "execution_count": 103,
     "metadata": {},
     "output_type": "execute_result"
    }
   ],
   "source": [
    "from sklearn.model_selection import train_test_split\n",
    "\n",
    "X = digits.images.reshape(-1, 64)\n",
    "y = digits.target\n",
    "\n",
    "X_train, X_test, y_train, y_test = train_test_split(\n",
    "    X, y, test_size=0.2)\n",
    "\n",
    "model = LogisticRegression()\n",
    "model.fit(X_train, y_train)\n",
    "model.score(X_test, y_test)"
   ]
  },
  {
   "cell_type": "code",
   "execution_count": 104,
   "metadata": {},
   "outputs": [
    {
     "data": {
      "text/plain": [
       "<sklearn.metrics._plot.confusion_matrix.ConfusionMatrixDisplay at 0x7fdf61be3510>"
      ]
     },
     "execution_count": 104,
     "metadata": {},
     "output_type": "execute_result"
    },
    {
     "data": {
      "image/png": "[encoded data removed]",
      "text/plain": [
       "<Figure size 432x288 with 2 Axes>"
      ]
     },
     "metadata": {
      "needs_background": "light"
     },
     "output_type": "display_data"
    }
   ],
   "source": [
    "metrics.plot_confusion_matrix(model, X_test, y_test)"
   ]
  },
  {
   "cell_type": "code",
   "execution_count": 105,
   "metadata": {},
   "outputs": [
    {
     "data": {
      "text/plain": [
       "(<matplotlib.image.AxesImage at 0x7fdf61e1e910>, 8, 1)"
      ]
     },
     "execution_count": 105,
     "metadata": {},
     "output_type": "execute_result"
    },
    {
     "data": {
      "image/png": "[encoded data removed]",
      "text/plain": [
       "<Figure size 432x288 with 1 Axes>"
      ]
     },
     "metadata": {
      "needs_background": "light"
     },
     "output_type": "display_data"
    }
   ],
   "source": [
    "y_pred = model.predict(X_test)\n",
    "bad_sample = list(y_pred != y_test).index(True)\n",
    "plt.imshow(X_test[bad_sample].reshape(8, 8), cmap=plt.cm.gray_r), y_pred[bad_sample], y_test[bad_sample]"
   ]
  },
  {
   "cell_type": "code",
   "execution_count": 106,
   "metadata": {},
   "outputs": [
    {
     "data": {
      "text/plain": [
       "<BarContainer object of 10 artists>"
      ]
     },
     "execution_count": 106,
     "metadata": {},
     "output_type": "execute_result"
    },
    {
     "data": {
      "image/png": "[encoded data removed]",
      "text/plain": [
       "<Figure size 432x288 with 1 Axes>"
      ]
     },
     "metadata": {
      "needs_background": "light"
     },
     "output_type": "display_data"
    }
   ],
   "source": [
    "plt.bar(range(10), model.predict_proba(X_test[bad_sample].reshape(1, -1)).reshape(-1))"
   ]
  },
  {
   "cell_type": "code",
   "execution_count": 107,
   "metadata": {},
   "outputs": [
    {
     "data": {
      "text/plain": [
       "0.9916666666666667"
      ]
     },
     "execution_count": 107,
     "metadata": {},
     "output_type": "execute_result"
    }
   ],
   "source": [
    "model = SVC()\n",
    "model.fit(X_train, y_train)\n",
    "model.score(X_test, y_test)"
   ]
  },
  {
   "cell_type": "code",
   "execution_count": 108,
   "metadata": {},
   "outputs": [
    {
     "data": {
      "text/plain": [
       "<sklearn.metrics._plot.confusion_matrix.ConfusionMatrixDisplay at 0x7fdf61d96d50>"
      ]
     },
     "execution_count": 108,
     "metadata": {},
     "output_type": "execute_result"
    },
    {
     "data": {
      "image/png": "[encoded data removed]",
      "text/plain": [
       "<Figure size 432x288 with 2 Axes>"
      ]
     },
     "metadata": {
      "needs_background": "light"
     },
     "output_type": "display_data"
    }
   ],
   "source": [
    "metrics.plot_confusion_matrix(model, X_test, y_test)"
   ]
  },
  {
   "cell_type": "code",
   "execution_count": 109,
   "metadata": {},
   "outputs": [
    {
     "data": {
      "text/plain": [
       "array([1])"
      ]
     },
     "execution_count": 109,
     "metadata": {},
     "output_type": "execute_result"
    }
   ],
   "source": [
    "model.predict(X_test[bad_sample].reshape(1, -1))"
   ]
  },
  {
   "cell_type": "code",
   "execution_count": null,
   "metadata": {},
   "outputs": [],
   "source": []
  }
 ],
 "metadata": {
  "kernelspec": {
   "display_name": "Python 3",
   "language": "python",
   "name": "python3"
  },
  "language_info": {
   "codemirror_mode": {
    "name": "ipython",
    "version": 3
   },
   "file_extension": ".py",
   "mimetype": "text/x-python",
   "name": "python",
   "nbconvert_exporter": "python",
   "pygments_lexer": "ipython3",
   "version": "3.7.5"
  }
 },
 "nbformat": 4,
 "nbformat_minor": 4
}
